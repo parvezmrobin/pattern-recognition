{
 "cells": [
  {
   "cell_type": "markdown",
   "metadata": {
    "collapsed": true
   },
   "source": [
    "# Train NN by Iris Dataset using 10-fold cross validation"
   ]
  },
  {
   "cell_type": "markdown",
   "metadata": {},
   "source": [
    "## Imports"
   ]
  },
  {
   "cell_type": "code",
   "execution_count": 3,
   "metadata": {},
   "outputs": [],
   "source": [
    "import tensorflow as tf\n",
    "import numpy as np\n",
    "from sklearn.preprocessing import MinMaxScaler, OneHotEncoder\n",
    "from sklearn.datasets import load_iris\n",
    "from sklearn.model_selection import train_test_split"
   ]
  },
  {
   "cell_type": "markdown",
   "metadata": {},
   "source": [
    "### Reset graph"
   ]
  },
  {
   "cell_type": "code",
   "execution_count": 4,
   "metadata": {},
   "outputs": [],
   "source": [
    "tf.reset_default_graph()"
   ]
  },
  {
   "cell_type": "markdown",
   "metadata": {},
   "source": [
    "### Load raw data"
   ]
  },
  {
   "cell_type": "code",
   "execution_count": 5,
   "metadata": {},
   "outputs": [],
   "source": [
    "raw_data = load_iris()"
   ]
  },
  {
   "cell_type": "markdown",
   "metadata": {},
   "source": [
    "### Split Train-Test Data"
   ]
  },
  {
   "cell_type": "code",
   "execution_count": 6,
   "metadata": {},
   "outputs": [],
   "source": [
    "X_train, X_test, Y_train, Y_test = train_test_split(\n",
    "    raw_data.data, raw_data.target,\n",
    "    test_size=1 / 3, random_state=42, stratify=raw_data.target)\n"
   ]
  },
  {
   "cell_type": "markdown",
   "metadata": {},
   "source": [
    "### Scalling"
   ]
  },
  {
   "cell_type": "code",
   "execution_count": 7,
   "metadata": {},
   "outputs": [],
   "source": [
    "X_scaller = MinMaxScaler(feature_range=(0, 1))\n",
    "X_train_scaled = X_scaller.fit_transform(X_train)\n",
    "X_test_scaled = X_scaller.fit_transform(X_test)"
   ]
  },
  {
   "cell_type": "code",
   "execution_count": 10,
   "metadata": {},
   "outputs": [],
   "source": [
    "one_hot_encoder = OneHotEncoder(sparse=False, categories='auto')\n",
    "Y_train_encoded = one_hot_encoder.fit_transform(Y_train.reshape((-1, 1)))\n",
    "Y_test_encoded = one_hot_encoder.fit_transform(Y_test.reshape((-1, 1)))"
   ]
  },
  {
   "cell_type": "markdown",
   "metadata": {},
   "source": [
    "## Model Definition"
   ]
  },
  {
   "cell_type": "markdown",
   "metadata": {},
   "source": [
    "### Define model parameters"
   ]
  },
  {
   "cell_type": "code",
   "execution_count": 11,
   "metadata": {},
   "outputs": [],
   "source": [
    "learning_rate = 0.01\n",
    "training_epochs = 10000"
   ]
  },
  {
   "cell_type": "markdown",
   "metadata": {},
   "source": [
    "### Define layer sizes"
   ]
  },
  {
   "cell_type": "code",
   "execution_count": 12,
   "metadata": {},
   "outputs": [],
   "source": [
    "layer_1_size = 200\n",
    "layer_2_size = 100"
   ]
  },
  {
   "cell_type": "markdown",
   "metadata": {},
   "source": [
    "### Define number of inputs and outputs"
   ]
  },
  {
   "cell_type": "code",
   "execution_count": 13,
   "metadata": {},
   "outputs": [],
   "source": [
    "num_input = X_train_scaled.shape[1]\n",
    "num_output = len(np.unique(Y_train, axis=0))"
   ]
  },
  {
   "cell_type": "markdown",
   "metadata": {},
   "source": [
    "### Define layers"
   ]
  },
  {
   "cell_type": "code",
   "execution_count": 14,
   "metadata": {},
   "outputs": [],
   "source": [
    "with tf.variable_scope(\"input\"):\n",
    "    X = tf.placeholder(tf.float32, shape=[None, num_input])"
   ]
  },
  {
   "cell_type": "markdown",
   "metadata": {},
   "source": [
    "#### Layer 1"
   ]
  },
  {
   "cell_type": "code",
   "execution_count": 15,
   "metadata": {},
   "outputs": [],
   "source": [
    "with tf.variable_scope(\"layer_1\"):\n",
    "    weights = tf.get_variable(\n",
    "        \"weights1\", \n",
    "        shape=[num_input, layer_1_size],\n",
    "        initializer=tf.contrib.layers.xavier_initializer())\n",
    "    biases = tf.get_variable(\n",
    "        \"bias1\",\n",
    "        shape=[layer_1_size],\n",
    "        initializer=tf.zeros_initializer()\n",
    "    )\n",
    "    layer_1_output = tf.nn.relu(tf.matmul(X, weights) + biases)"
   ]
  },
  {
   "cell_type": "markdown",
   "metadata": {},
   "source": [
    "#### Layer 2"
   ]
  },
  {
   "cell_type": "code",
   "execution_count": 16,
   "metadata": {},
   "outputs": [],
   "source": [
    "with tf.variable_scope(\"layer_2\"):\n",
    "    weights = tf.get_variable(\n",
    "        \"weights2\", \n",
    "        shape=[layer_1_size, layer_2_size],\n",
    "        initializer=tf.contrib.layers.xavier_initializer())\n",
    "    biases = tf.get_variable(\n",
    "        \"bias2\",\n",
    "        shape=[layer_2_size],\n",
    "        initializer=tf.zeros_initializer()\n",
    "    )\n",
    "    layer_2_output = tf.nn.relu(tf.matmul(layer_1_output, weights) + biases)"
   ]
  },
  {
   "cell_type": "markdown",
   "metadata": {},
   "source": [
    "#### Output"
   ]
  },
  {
   "cell_type": "code",
   "execution_count": 17,
   "metadata": {},
   "outputs": [],
   "source": [
    "with tf.variable_scope(\"output\"):\n",
    "    weights = tf.get_variable(\n",
    "        \"weights3\", \n",
    "        shape=[layer_2_size, num_output],\n",
    "        initializer=tf.contrib.layers.xavier_initializer())\n",
    "    biases = tf.get_variable(\n",
    "        \"bias3\",\n",
    "        shape=[num_output],\n",
    "        initializer=tf.zeros_initializer()\n",
    "    )\n",
    "    prediction = tf.matmul(layer_2_output, weights) + biases"
   ]
  },
  {
   "cell_type": "markdown",
   "metadata": {},
   "source": [
    "#### Cost"
   ]
  },
  {
   "cell_type": "code",
   "execution_count": 18,
   "metadata": {},
   "outputs": [],
   "source": [
    "with tf.variable_scope(\"cost\"):\n",
    "    Y = tf.placeholder(tf.float32, shape=[None, num_output])\n",
    "    cost = tf.reduce_mean(tf.nn.softmax_cross_entropy_with_logits_v2(labels=Y, logits=prediction))"
   ]
  },
  {
   "cell_type": "markdown",
   "metadata": {},
   "source": [
    "#### Optimize"
   ]
  },
  {
   "cell_type": "code",
   "execution_count": 19,
   "metadata": {},
   "outputs": [],
   "source": [
    "with tf.variable_scope(\"train\"):\n",
    "    optimizer = tf.train.GradientDescentOptimizer(learning_rate).minimize(cost)"
   ]
  },
  {
   "cell_type": "markdown",
   "metadata": {},
   "source": [
    "#### Accuracy"
   ]
  },
  {
   "cell_type": "code",
   "execution_count": 20,
   "metadata": {},
   "outputs": [],
   "source": [
    "with tf.variable_scope(\"accuracy\"):\n",
    "    corr_pred = tf.equal(tf.argmax(Y, axis=1), tf.argmax(prediction, axis=1))\n",
    "    accuracy = tf.reduce_mean(tf.cast(corr_pred, tf.float32))"
   ]
  },
  {
   "cell_type": "markdown",
   "metadata": {},
   "source": [
    "#### Log Result"
   ]
  },
  {
   "cell_type": "code",
   "execution_count": 21,
   "metadata": {},
   "outputs": [],
   "source": [
    "with tf.variable_scope(\"logging\"):\n",
    "    tf.summary.scalar(\"current_cost\", cost)\n",
    "    tf.summary.scalar(\"current_accuracy\", accuracy)\n",
    "    summary = tf.summary.merge_all()"
   ]
  },
  {
   "cell_type": "markdown",
   "metadata": {},
   "source": [
    "## Running Session"
   ]
  },
  {
   "cell_type": "markdown",
   "metadata": {},
   "source": [
    "### Declare utility variables"
   ]
  },
  {
   "cell_type": "code",
   "execution_count": 22,
   "metadata": {},
   "outputs": [],
   "source": [
    "train_writer = tf.summary.FileWriter('assignments/neural-network/tmp/train')\n",
    "test_writer = tf.summary.FileWriter('assignments/neural-network/tmp/test')\n",
    "\n",
    "train_feed = {X: X_train_scaled, Y: Y_train_encoded}\n",
    "test_feed = {X: X_test_scaled, Y: Y_test_encoded}"
   ]
  },
  {
   "cell_type": "markdown",
   "metadata": {},
   "source": [
    "### Logger function"
   ]
  },
  {
   "cell_type": "code",
   "execution_count": 24,
   "metadata": {},
   "outputs": [],
   "source": [
    "def log_progress():\n",
    "    train_cost, train_summary = session.run(\n",
    "        [cost, summary], feed_dict=train_feed\n",
    "    )\n",
    "    test_cost, test_summary = session.run(\n",
    "        [cost, summary], feed_dict=test_feed\n",
    "    )\n",
    "    train_acc = session.run(accuracy, feed_dict=train_feed)\n",
    "    test_acc = session.run(accuracy, feed_dict=test_feed)\n",
    "    print(epoch, train_cost, test_cost, train_acc, test_acc)\n",
    "    train_writer.add_summary(train_summary, epoch)\n",
    "    test_writer.add_summary(test_summary, epoch)\n"
   ]
  },
  {
   "cell_type": "markdown",
   "metadata": {},
   "source": [
    "### Let's start"
   ]
  },
  {
   "cell_type": "code",
   "execution_count": 25,
   "metadata": {},
   "outputs": [
    {
     "name": "stdout",
     "output_type": "stream",
     "text": [
      "0 1.104193 1.1042435 0.65 0.64\n100 0.9044731 0.9078958 0.67 0.66\n"
     ]
    },
    {
     "name": "stdout",
     "output_type": "stream",
     "text": [
      "200 0.7579273 0.76638794 0.68 0.7\n"
     ]
    },
    {
     "name": "stdout",
     "output_type": "stream",
     "text": [
      "300 0.63463426 0.64683515 0.71 0.7\n400 0.54403365 0.5592582 0.76 0.74\n"
     ]
    },
    {
     "name": "stdout",
     "output_type": "stream",
     "text": [
      "500 0.47995222 0.49728274 0.85 0.8\n600 0.4322962 0.45078808 0.9 0.84\n"
     ]
    },
    {
     "name": "stdout",
     "output_type": "stream",
     "text": [
      "700 0.39375457 0.4128451 0.92 0.92\n800 0.3602462 0.3796626 0.95 0.96\n"
     ]
    },
    {
     "name": "stdout",
     "output_type": "stream",
     "text": [
      "900 0.32973114 0.34933555 0.96 0.98\n1000 0.30119476 0.32107282 0.96 0.98\n"
     ]
    },
    {
     "name": "stdout",
     "output_type": "stream",
     "text": [
      "1100 0.2744965 0.29464453 0.96 0.98\n1200 0.24970561 0.27015296 0.96 0.98\n"
     ]
    },
    {
     "name": "stdout",
     "output_type": "stream",
     "text": [
      "1300 0.22691843 0.24787302 0.97 0.98\n1400 0.20641476 0.22788662 0.99 0.98\n"
     ]
    },
    {
     "name": "stdout",
     "output_type": "stream",
     "text": [
      "1500 0.18812153 0.21000691 0.99 0.98\n1600 0.171841 0.19418755 0.99 0.98\n"
     ]
    },
    {
     "name": "stdout",
     "output_type": "stream",
     "text": [
      "1700 0.15766302 0.18048148 0.99 0.98\n1800 0.14540952 0.16862541 0.99 0.98\n"
     ]
    },
    {
     "name": "stdout",
     "output_type": "stream",
     "text": [
      "1900 0.13473777 0.15829241 0.99 0.98\n2000 0.125421 0.1492551 0.99 0.98\n"
     ]
    },
    {
     "name": "stdout",
     "output_type": "stream",
     "text": [
      "2100 0.11727003 0.14132279 0.99 0.98\n2200 0.11011811 0.13431717 0.99 0.98\n"
     ]
    },
    {
     "name": "stdout",
     "output_type": "stream",
     "text": [
      "2300 0.103815794 0.12812708 0.99 0.98\n2400 0.09824477 0.12263548 0.99 0.98\n"
     ]
    },
    {
     "name": "stdout",
     "output_type": "stream",
     "text": [
      "2500 0.093307145 0.1177474 0.99 0.98\n2600 0.088906705 0.11337293 0.99 0.98\n"
     ]
    },
    {
     "name": "stdout",
     "output_type": "stream",
     "text": [
      "2700 0.08496682 0.10944278 0.99 0.98\n2800 0.0814261 0.10590343 0.99 0.98\n"
     ]
    },
    {
     "name": "stdout",
     "output_type": "stream",
     "text": [
      "2900 0.07823055 0.10270045 0.99 0.96\n3000 0.07533786 0.099798724 0.99 0.96\n"
     ]
    },
    {
     "name": "stdout",
     "output_type": "stream",
     "text": [
      "3100 0.07270737 0.0971587 0.99 0.96\n3200 0.070306264 0.09474999 0.99 0.96\n"
     ]
    },
    {
     "name": "stdout",
     "output_type": "stream",
     "text": [
      "3300 0.06810698 0.0925452 0.99 0.96\n3400 0.066085376 0.09052405 0.99 0.96\n"
     ]
    },
    {
     "name": "stdout",
     "output_type": "stream",
     "text": [
      "3500 0.06422055 0.08866352 0.99 0.96\n3600 0.06249419 0.08693966 0.99 0.96\n"
     ]
    },
    {
     "name": "stdout",
     "output_type": "stream",
     "text": [
      "3700 0.060891956 0.08534839 0.99 0.96\n3800 0.059401166 0.0838758 0.99 0.96\n"
     ]
    },
    {
     "name": "stdout",
     "output_type": "stream",
     "text": [
      "3900 0.0580099 0.082512416 0.99 0.96\n4000 0.056706943 0.081252664 0.99 0.96\n"
     ]
    },
    {
     "name": "stdout",
     "output_type": "stream",
     "text": [
      "4100 0.05548365 0.080094576 0.99 0.96\n4200 0.05433459 0.079009995 0.99 0.96\n"
     ]
    },
    {
     "name": "stdout",
     "output_type": "stream",
     "text": [
      "4300 0.05325185 0.07800231 0.99 0.96\n4400 0.052228983 0.077065095 0.99 0.96\n"
     ]
    },
    {
     "name": "stdout",
     "output_type": "stream",
     "text": [
      "4500 0.05126044 0.07619129 0.99 0.96\n4600 0.050340954 0.075377695 0.99 0.96\n"
     ]
    },
    {
     "name": "stdout",
     "output_type": "stream",
     "text": [
      "4700 0.049466677 0.07461731 0.99 0.96\n4800 0.04863411 0.0739065 0.99 0.96\n"
     ]
    },
    {
     "name": "stdout",
     "output_type": "stream",
     "text": [
      "4900 0.047840193 0.073239975 0.99 0.96\n5000 0.047081467 0.07261817 0.99 0.96\n"
     ]
    },
    {
     "name": "stdout",
     "output_type": "stream",
     "text": [
      "5100 0.04635492 0.07203622 0.99 0.96\n5200 0.045658063 0.07149108 0.99 0.96\n"
     ]
    },
    {
     "name": "stdout",
     "output_type": "stream",
     "text": [
      "5300 0.044984594 0.07097566 0.99 0.96\n5400 0.044326153 0.07048117 0.99 0.96\n"
     ]
    },
    {
     "name": "stdout",
     "output_type": "stream",
     "text": [
      "5500 0.043705445 0.07003051 0.99 0.96\n5600 0.043107904 0.06961178 0.99 0.96\n"
     ]
    },
    {
     "name": "stdout",
     "output_type": "stream",
     "text": [
      "5700 0.04253098 0.06922 0.99 0.96\n5800 0.041973483 0.06885354 0.99 0.96\n"
     ]
    },
    {
     "name": "stdout",
     "output_type": "stream",
     "text": [
      "5900 0.04143414 0.06851105 0.99 0.96\n6000 0.040912174 0.06819067 0.99 0.96\n"
     ]
    },
    {
     "name": "stdout",
     "output_type": "stream",
     "text": [
      "6100 0.04040103 0.067889065 0.99 0.96\n6200 0.039896403 0.06759665 0.99 0.96\n"
     ]
    },
    {
     "name": "stdout",
     "output_type": "stream",
     "text": [
      "6300 0.039422538 0.06734375 0.99 0.96\n6400 0.038962606 0.06710858 0.99 0.96\n"
     ]
    },
    {
     "name": "stdout",
     "output_type": "stream",
     "text": [
      "6500 0.03851584 0.06688848 0.99 0.96\n6600 0.038081575 0.06668406 0.99 0.96\n"
     ]
    },
    {
     "name": "stdout",
     "output_type": "stream",
     "text": [
      "6700 0.03765927 0.0664932 0.99 0.96\n6800 0.037248213 0.0663152 0.99 0.96\n"
     ]
    },
    {
     "name": "stdout",
     "output_type": "stream",
     "text": [
      "6900 0.036847934 0.066150695 0.99 0.96\n7000 0.036457803 0.06599769 0.99 0.96\n"
     ]
    },
    {
     "name": "stdout",
     "output_type": "stream",
     "text": [
      "7100 0.036077544 0.06585617 0.99 0.96\n7200 0.035706647 0.065725945 0.99 0.96\n"
     ]
    },
    {
     "name": "stdout",
     "output_type": "stream",
     "text": [
      "7300 0.03534457 0.065604664 0.99 0.96\n7400 0.034991182 0.065494 0.99 0.96\n"
     ]
    },
    {
     "name": "stdout",
     "output_type": "stream",
     "text": [
      "7500 0.03464588 0.06539339 0.99 0.96\n7600 0.034308467 0.06530192 0.99 0.96\n"
     ]
    },
    {
     "name": "stdout",
     "output_type": "stream",
     "text": [
      "7700 0.033978634 0.06521882 1.0 0.96\n7800 0.03365624 0.065143205 1.0 0.96\n"
     ]
    },
    {
     "name": "stdout",
     "output_type": "stream",
     "text": [
      "7900 0.033340883 0.06507449 1.0 0.96\n8000 0.033032343 0.065013215 1.0 0.96\n"
     ]
    },
    {
     "name": "stdout",
     "output_type": "stream",
     "text": [
      "8100 0.032730218 0.064958125 1.0 0.96\n8200 0.03243432 0.06490967 1.0 0.96\n"
     ]
    },
    {
     "name": "stdout",
     "output_type": "stream",
     "text": [
      "8300 0.032144487 0.06486753 1.0 0.96\n8400 0.031860568 0.06483145 1.0 0.96\n"
     ]
    },
    {
     "name": "stdout",
     "output_type": "stream",
     "text": [
      "8500 0.031582084 0.06480015 1.0 0.96\n"
     ]
    },
    {
     "name": "stdout",
     "output_type": "stream",
     "text": [
      "8600 0.031309012 0.06477481 1.0 0.96\n"
     ]
    },
    {
     "name": "stdout",
     "output_type": "stream",
     "text": [
      "8700 0.031041306 0.06475422 1.0 0.96\n"
     ]
    },
    {
     "name": "stdout",
     "output_type": "stream",
     "text": [
      "8800 0.030778708 0.06473807 1.0 0.96\n"
     ]
    },
    {
     "name": "stdout",
     "output_type": "stream",
     "text": [
      "8900 0.030520994 0.06472755 1.0 0.96\n"
     ]
    },
    {
     "name": "stdout",
     "output_type": "stream",
     "text": [
      "9000 0.030268066 0.064721435 1.0 0.96\n"
     ]
    },
    {
     "name": "stdout",
     "output_type": "stream",
     "text": [
      "9100 0.030019691 0.064719446 1.0 0.96\n"
     ]
    },
    {
     "name": "stdout",
     "output_type": "stream",
     "text": [
      "9200 0.02977581 0.064721525 1.0 0.96\n"
     ]
    },
    {
     "name": "stdout",
     "output_type": "stream",
     "text": [
      "9300 0.02953624 0.06472638 1.0 0.96\n"
     ]
    },
    {
     "name": "stdout",
     "output_type": "stream",
     "text": [
      "9400 0.0293009 0.06473579 1.0 0.96\n"
     ]
    },
    {
     "name": "stdout",
     "output_type": "stream",
     "text": [
      "9500 0.029069677 0.064747974 1.0 0.96\n"
     ]
    },
    {
     "name": "stdout",
     "output_type": "stream",
     "text": [
      "9600 0.028842418 0.06476381 1.0 0.96\n"
     ]
    },
    {
     "name": "stdout",
     "output_type": "stream",
     "text": [
      "9700 0.028618831 0.064784236 1.0 0.96\n"
     ]
    },
    {
     "name": "stdout",
     "output_type": "stream",
     "text": [
      "9800 0.028399035 0.064805694 1.0 0.96\n"
     ]
    },
    {
     "name": "stdout",
     "output_type": "stream",
     "text": [
      "9900 0.028182976 0.06483023 1.0 0.96\n"
     ]
    },
    {
     "name": "stdout",
     "output_type": "stream",
     "text": [
      "Training is completed \n\nFinal Train Accuracy: 1.0\nFinal Test Accuracy: 0.96\n"
     ]
    }
   ],
   "source": [
    "\n",
    "with tf.Session() as session:\n",
    "    session.run(tf.global_variables_initializer())\n",
    "    \n",
    "    for epoch in range(training_epochs):\n",
    "        session.run(optimizer, feed_dict=train_feed)\n",
    "\n",
    "        if epoch % 100 == 0:\n",
    "            log_progress()\n",
    "\n",
    "    print(\"Training is completed\", \"\\n\")\n",
    "    final_train_acc = session.run(accuracy, feed_dict=train_feed)\n",
    "    final_test_acc = session.run(accuracy, feed_dict=test_feed)\n",
    "    \n",
    "    print(\"Final Train Accuracy:\", final_train_acc)\n",
    "    print(\"Final Test Accuracy:\", final_test_acc)\n",
    "    \n",
    "    train_writer.close()\n",
    "    test_writer.close()"
   ]
  }
 ],
 "metadata": {
  "kernelspec": {
   "display_name": "Python 2",
   "language": "python",
   "name": "python2"
  },
  "language_info": {
   "codemirror_mode": {
    "name": "ipython",
    "version": 2
   },
   "file_extension": ".py",
   "mimetype": "text/x-python",
   "name": "python",
   "nbconvert_exporter": "python",
   "pygments_lexer": "ipython2",
   "version": "2.7.6"
  }
 },
 "nbformat": 4,
 "nbformat_minor": 0
}
