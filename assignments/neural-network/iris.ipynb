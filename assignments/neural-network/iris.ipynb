{
 "cells": [
  {
   "cell_type": "markdown",
   "metadata": {
    "collapsed": true
   },
   "source": [
    "# Train NN by Iris Dataset using 10-fold cross validation"
   ]
  },
  {
   "cell_type": "markdown",
   "metadata": {},
   "source": [
    "## Imports"
   ]
  },
  {
   "cell_type": "code",
   "execution_count": 1,
   "metadata": {},
   "outputs": [],
   "source": [
    "import tensorflow as tf\n",
    "import numpy as np\n",
    "from sklearn.preprocessing import MinMaxScaler, OneHotEncoder\n",
    "from sklearn.datasets import load_iris\n",
    "from sklearn.model_selection import train_test_split"
   ]
  },
  {
   "cell_type": "markdown",
   "metadata": {},
   "source": [
    "### Reset graph"
   ]
  },
  {
   "cell_type": "code",
   "execution_count": 2,
   "metadata": {},
   "outputs": [],
   "source": [
    "tf.reset_default_graph()"
   ]
  },
  {
   "cell_type": "markdown",
   "metadata": {},
   "source": [
    "### Load raw data"
   ]
  },
  {
   "cell_type": "code",
   "execution_count": 3,
   "metadata": {},
   "outputs": [],
   "source": [
    "raw_data = load_iris()"
   ]
  },
  {
   "cell_type": "markdown",
   "metadata": {},
   "source": [
    "### Split Train-Test Data"
   ]
  },
  {
   "cell_type": "code",
   "execution_count": 4,
   "metadata": {},
   "outputs": [],
   "source": [
    "X_train, X_test, Y_train, Y_test = train_test_split(\n",
    "    raw_data.data, raw_data.target,\n",
    "    test_size=1 / 3, random_state=42, stratify=raw_data.target)\n"
   ]
  },
  {
   "cell_type": "markdown",
   "metadata": {},
   "source": [
    "### Scalling"
   ]
  },
  {
   "cell_type": "code",
   "execution_count": 5,
   "metadata": {},
   "outputs": [],
   "source": [
    "X_scaller = MinMaxScaler(feature_range=(0, 1))"
   ]
  },
  {
   "cell_type": "markdown",
   "metadata": {},
   "source": [
    "### Pre-process"
   ]
  },
  {
   "cell_type": "code",
   "execution_count": 6,
   "metadata": {},
   "outputs": [],
   "source": [
    "X_train_scaled = X_scaller.fit_transform(X_train)\n",
    "X_test_scaled = X_scaller.fit_transform(X_test)"
   ]
  },
  {
   "cell_type": "code",
   "execution_count": 7,
   "metadata": {},
   "outputs": [],
   "source": [
    "one_hot_encoder = OneHotEncoder(sparse=False, categories='auto')\n",
    "Y_train_encoded = one_hot_encoder.fit_transform(Y_train.reshape((-1, 1)))\n",
    "Y_test_encoded = one_hot_encoder.fit_transform(Y_test.reshape((-1, 1)))"
   ]
  },
  {
   "cell_type": "markdown",
   "metadata": {},
   "source": [
    "## Model Definition"
   ]
  },
  {
   "cell_type": "markdown",
   "metadata": {},
   "source": [
    "### Define model parameters"
   ]
  },
  {
   "cell_type": "code",
   "execution_count": 8,
   "metadata": {},
   "outputs": [],
   "source": [
    "learning_rate = 0.01\n",
    "training_epochs = 10000"
   ]
  },
  {
   "cell_type": "markdown",
   "metadata": {},
   "source": [
    "### Define layer sizes"
   ]
  },
  {
   "cell_type": "code",
   "execution_count": 9,
   "metadata": {},
   "outputs": [],
   "source": [
    "layer_1_size = 200\n",
    "layer_2_size = 100"
   ]
  },
  {
   "cell_type": "markdown",
   "metadata": {},
   "source": [
    "### Define number of inputs and outputs"
   ]
  },
  {
   "cell_type": "code",
   "execution_count": 10,
   "metadata": {},
   "outputs": [],
   "source": [
    "num_input = X_train_scaled.shape[1]\n",
    "num_output = len(np.unique(Y_train, axis=0))"
   ]
  },
  {
   "cell_type": "markdown",
   "metadata": {},
   "source": [
    "### Define layers"
   ]
  },
  {
   "cell_type": "code",
   "execution_count": 11,
   "metadata": {},
   "outputs": [],
   "source": [
    "with tf.variable_scope(\"input\"):\n",
    "    X = tf.placeholder(tf.float32, shape=[None, num_input])"
   ]
  },
  {
   "cell_type": "markdown",
   "metadata": {},
   "source": [
    "#### Layer 1"
   ]
  },
  {
   "cell_type": "code",
   "execution_count": 12,
   "metadata": {},
   "outputs": [],
   "source": [
    "with tf.variable_scope(\"layer_1\"):\n",
    "    weights = tf.get_variable(\n",
    "        \"weights1\", \n",
    "        shape=[num_input, layer_1_size],\n",
    "        initializer=tf.contrib.layers.xavier_initializer())\n",
    "    biases = tf.get_variable(\n",
    "        \"bias1\",\n",
    "        shape=[layer_1_size],\n",
    "        initializer=tf.zeros_initializer()\n",
    "    )\n",
    "    layer_1_output = tf.nn.relu(tf.matmul(X, weights) + biases)"
   ]
  },
  {
   "cell_type": "markdown",
   "metadata": {},
   "source": [
    "#### Layer 2"
   ]
  },
  {
   "cell_type": "code",
   "execution_count": 13,
   "metadata": {},
   "outputs": [],
   "source": [
    "with tf.variable_scope(\"layer_2\"):\n",
    "    weights = tf.get_variable(\n",
    "        \"weights2\", \n",
    "        shape=[layer_1_size, layer_2_size],\n",
    "        initializer=tf.contrib.layers.xavier_initializer())\n",
    "    biases = tf.get_variable(\n",
    "        \"bias2\",\n",
    "        shape=[layer_2_size],\n",
    "        initializer=tf.zeros_initializer()\n",
    "    )\n",
    "    layer_2_output = tf.nn.relu(tf.matmul(layer_1_output, weights) + biases)"
   ]
  },
  {
   "cell_type": "markdown",
   "metadata": {},
   "source": [
    "#### Output"
   ]
  },
  {
   "cell_type": "code",
   "execution_count": 14,
   "metadata": {},
   "outputs": [],
   "source": [
    "with tf.variable_scope(\"output\"):\n",
    "    weights = tf.get_variable(\n",
    "        \"weights3\", \n",
    "        shape=[layer_2_size, num_output],\n",
    "        initializer=tf.contrib.layers.xavier_initializer())\n",
    "    biases = tf.get_variable(\n",
    "        \"bias3\",\n",
    "        shape=[num_output],\n",
    "        initializer=tf.zeros_initializer()\n",
    "    )\n",
    "    prediction = tf.matmul(layer_2_output, weights) + biases"
   ]
  },
  {
   "cell_type": "markdown",
   "metadata": {},
   "source": [
    "#### Cost"
   ]
  },
  {
   "cell_type": "code",
   "execution_count": 15,
   "metadata": {},
   "outputs": [
    {
     "name": "stdout",
     "output_type": "stream",
     "text": [
      "WARNING:tensorflow:From <ipython-input-15-198f89763bc1>:3: softmax_cross_entropy_with_logits (from tensorflow.python.ops.nn_ops) is deprecated and will be removed in a future version.\nInstructions for updating:\n\nFuture major versions of TensorFlow will allow gradients to flow\ninto the labels input on backprop by default.\n\nSee `tf.nn.softmax_cross_entropy_with_logits_v2`.\n\n"
     ]
    }
   ],
   "source": [
    "with tf.variable_scope(\"cost\"):\n",
    "    Y = tf.placeholder(tf.float32, shape=[None, num_output])\n",
    "    cost = tf.reduce_mean(tf.nn.softmax_cross_entropy_with_logits_v2(labels=Y, logits=prediction))"
   ]
  },
  {
   "cell_type": "markdown",
   "metadata": {},
   "source": [
    "#### Optimize"
   ]
  },
  {
   "cell_type": "code",
   "execution_count": 20,
   "metadata": {},
   "outputs": [],
   "source": [
    "with tf.variable_scope(\"train\"):\n",
    "    optimizer = tf.train.GradientDescentOptimizer(learning_rate).minimize(cost)"
   ]
  },
  {
   "cell_type": "markdown",
   "metadata": {},
   "source": [
    "#### Accuracy"
   ]
  },
  {
   "cell_type": "code",
   "execution_count": 17,
   "metadata": {},
   "outputs": [],
   "source": [
    "with tf.variable_scope(\"accuracy\"):\n",
    "    corr_pred = tf.equal(tf.argmax(Y, axis=1), tf.argmax(prediction, axis=1))\n",
    "    accuracy = tf.reduce_mean(tf.cast(corr_pred, tf.float32))"
   ]
  },
  {
   "cell_type": "markdown",
   "metadata": {},
   "source": [
    "#### Log Result"
   ]
  },
  {
   "cell_type": "code",
   "execution_count": 18,
   "metadata": {},
   "outputs": [],
   "source": [
    "with tf.variable_scope(\"logging\"):\n",
    "    tf.summary.scalar(\"current_cost\", cost)\n",
    "    tf.summary.scalar(\"current_accuracy\", accuracy)\n",
    "    summary = tf.summary.merge_all()"
   ]
  },
  {
   "cell_type": "markdown",
   "metadata": {},
   "source": [
    "## Running Session"
   ]
  },
  {
   "cell_type": "code",
   "execution_count": 25,
   "metadata": {},
   "outputs": [
    {
     "name": "stdout",
     "output_type": "stream",
     "text": [
      "0 1.1090431 1.1084955 0.33 0.34\n100 0.95462245 0.95730865 0.67 0.66\n"
     ]
    },
    {
     "name": "stdout",
     "output_type": "stream",
     "text": [
      "200 0.8345694 0.84017473 0.67 0.68\n"
     ]
    },
    {
     "name": "stdout",
     "output_type": "stream",
     "text": [
      "300 0.71783996 0.7260194 0.69 0.7\n400 0.6141985 0.62493557 0.74 0.74\n"
     ]
    },
    {
     "name": "stdout",
     "output_type": "stream",
     "text": [
      "500 0.53154075 0.5444565 0.82 0.8\n600 0.46924576 0.4838156 0.86 0.84\n"
     ]
    },
    {
     "name": "stdout",
     "output_type": "stream",
     "text": [
      "700 0.42051604 0.4360463 0.91 0.9\n800 0.38131768 0.39751828 0.92 0.96\n"
     ]
    },
    {
     "name": "stdout",
     "output_type": "stream",
     "text": [
      "900 0.34761807 0.36431965 0.95 0.98\n1000 0.31720427 0.33434796 0.96 0.98\n"
     ]
    },
    {
     "name": "stdout",
     "output_type": "stream",
     "text": [
      "1100 0.28922513 0.30683726 0.96 0.98\n1200 0.26336175 0.28154022 0.96 0.98\n"
     ]
    },
    {
     "name": "stdout",
     "output_type": "stream",
     "text": [
      "1300 0.23967646 0.25857574 0.97 0.98\n1400 0.21818699 0.23786893 0.98 0.98\n"
     ]
    },
    {
     "name": "stdout",
     "output_type": "stream",
     "text": [
      "1500 0.19891335 0.21939045 0.99 0.98\n1600 0.1817907 0.2030461 0.99 0.98\n"
     ]
    },
    {
     "name": "stdout",
     "output_type": "stream",
     "text": [
      "1700 0.16669776 0.18865219 0.99 0.98\n1800 0.15343264 0.17601952 0.99 0.98\n"
     ]
    },
    {
     "name": "stdout",
     "output_type": "stream",
     "text": [
      "1900 0.14181581 0.16494994 0.99 0.98\n2000 0.13164045 0.15523648 0.99 0.98\n"
     ]
    },
    {
     "name": "stdout",
     "output_type": "stream",
     "text": [
      "2100 0.122735865 0.14669944 0.99 0.98\n2200 0.114914484 0.13918357 0.99 0.98\n"
     ]
    },
    {
     "name": "stdout",
     "output_type": "stream",
     "text": [
      "2300 0.10803304 0.13253687 0.99 0.98\n2400 0.101957455 0.12664261 0.99 0.98\n"
     ]
    },
    {
     "name": "stdout",
     "output_type": "stream",
     "text": [
      "2500 0.09657413 0.121402614 0.99 0.98\n2600 0.09179058 0.11672978 0.99 0.98\n"
     ]
    },
    {
     "name": "stdout",
     "output_type": "stream",
     "text": [
      "2700 0.087518305 0.11253344 0.99 0.96\n2800 0.08368679 0.108757645 0.99 0.96\n"
     ]
    },
    {
     "name": "stdout",
     "output_type": "stream",
     "text": [
      "2900 0.08024063 0.10535225 0.99 0.96\n3000 0.07712516 0.102266245 0.99 0.96\n"
     ]
    },
    {
     "name": "stdout",
     "output_type": "stream",
     "text": [
      "3100 0.07427999 0.09943713 0.99 0.96\n3200 0.07168206 0.09685281 0.99 0.96\n"
     ]
    },
    {
     "name": "stdout",
     "output_type": "stream",
     "text": [
      "3300 0.06932055 0.094509296 0.99 0.96\n3400 0.06716652 0.09237974 0.99 0.96\n"
     ]
    },
    {
     "name": "stdout",
     "output_type": "stream",
     "text": [
      "3500 0.06518618 0.09042571 0.99 0.96\n3600 0.06335774 0.08862709 0.99 0.96\n"
     ]
    },
    {
     "name": "stdout",
     "output_type": "stream",
     "text": [
      "3700 0.061664417 0.08697204 0.99 0.96\n3800 0.060094193 0.08544014 0.99 0.96\n"
     ]
    },
    {
     "name": "stdout",
     "output_type": "stream",
     "text": [
      "3900 0.058634672 0.08402439 0.99 0.96\n4000 0.05727314 0.08272111 0.99 0.96\n"
     ]
    },
    {
     "name": "stdout",
     "output_type": "stream",
     "text": [
      "4100 0.05599825 0.08151106 0.99 0.96\n4200 0.054801527 0.08038845 0.99 0.96\n"
     ]
    },
    {
     "name": "stdout",
     "output_type": "stream",
     "text": [
      "4300 0.053675618 0.07934327 0.99 0.96\n4400 0.052613866 0.078371316 0.99 0.96\n"
     ]
    },
    {
     "name": "stdout",
     "output_type": "stream",
     "text": [
      "4500 0.051609673 0.077464856 0.99 0.96\n4600 0.05065727 0.07661904 0.99 0.96\n"
     ]
    },
    {
     "name": "stdout",
     "output_type": "stream",
     "text": [
      "4700 0.04975242 0.07582933 0.99 0.96\n4800 0.048891068 0.07508978 0.99 0.96\n"
     ]
    },
    {
     "name": "stdout",
     "output_type": "stream",
     "text": [
      "4900 0.048070844 0.07440704 0.99 0.96\n5000 0.04728813 0.07377217 0.99 0.96\n"
     ]
    },
    {
     "name": "stdout",
     "output_type": "stream",
     "text": [
      "5100 0.046540074 0.07318319 0.99 0.96\n5200 0.045823764 0.072632514 0.99 0.96\n"
     ]
    },
    {
     "name": "stdout",
     "output_type": "stream",
     "text": [
      "5300 0.045136992 0.072118044 0.99 0.96\n5400 0.044477466 0.07163539 0.99 0.96\n"
     ]
    },
    {
     "name": "stdout",
     "output_type": "stream",
     "text": [
      "5500 0.043843187 0.07118457 0.99 0.96\n5600 0.043232474 0.07076241 0.99 0.96\n"
     ]
    },
    {
     "name": "stdout",
     "output_type": "stream",
     "text": [
      "5700 0.04264368 0.07036687 0.99 0.96\n5800 0.042075567 0.06999672 0.99 0.96\n"
     ]
    },
    {
     "name": "stdout",
     "output_type": "stream",
     "text": [
      "5900 0.04152684 0.06965115 0.99 0.96\n6000 0.04099613 0.06932872 0.99 0.96\n"
     ]
    },
    {
     "name": "stdout",
     "output_type": "stream",
     "text": [
      "6100 0.04048228 0.06902867 0.99 0.96\n6200 0.03998445 0.068747886 0.99 0.96\n"
     ]
    },
    {
     "name": "stdout",
     "output_type": "stream",
     "text": [
      "6300 0.03950172 0.068485714 0.99 0.96\n6400 0.039033387 0.068241104 0.99 0.96\n"
     ]
    },
    {
     "name": "stdout",
     "output_type": "stream",
     "text": [
      "6500 0.03857866 0.068012364 0.99 0.96\n6600 0.03813679 0.067799 0.99 0.96\n"
     ]
    },
    {
     "name": "stdout",
     "output_type": "stream",
     "text": [
      "6700 0.037707232 0.06760077 0.99 0.96\n6800 0.037289377 0.06741731 0.99 0.96\n"
     ]
    },
    {
     "name": "stdout",
     "output_type": "stream",
     "text": [
      "6900 0.036882695 0.067247644 0.99 0.96\n7000 0.03648656 0.06709044 0.99 0.96\n"
     ]
    },
    {
     "name": "stdout",
     "output_type": "stream",
     "text": [
      "7100 0.03610055 0.066944875 0.99 0.96\n7200 0.035724226 0.06681061 1.0 0.96\n"
     ]
    },
    {
     "name": "stdout",
     "output_type": "stream",
     "text": [
      "7300 0.03535716 0.06668749 1.0 0.96\n7400 0.034998838 0.066573955 1.0 0.96\n"
     ]
    },
    {
     "name": "stdout",
     "output_type": "stream",
     "text": [
      "7500 0.03464882 0.066470735 1.0 0.96\n7600 0.034306895 0.066376165 1.0 0.96\n"
     ]
    },
    {
     "name": "stdout",
     "output_type": "stream",
     "text": [
      "7700 0.03397269 0.066290766 1.0 0.96\n7800 0.03364591 0.06621329 1.0 0.96\n"
     ]
    },
    {
     "name": "stdout",
     "output_type": "stream",
     "text": [
      "7900 0.033326313 0.06614407 1.0 0.96\n8000 0.033013597 0.06608073 1.0 0.96\n"
     ]
    },
    {
     "name": "stdout",
     "output_type": "stream",
     "text": [
      "8100 0.032707598 0.066024855 1.0 0.96\n8200 0.03240812 0.06597532 1.0 0.96\n"
     ]
    },
    {
     "name": "stdout",
     "output_type": "stream",
     "text": [
      "8300 0.032114748 0.06593256 1.0 0.96\n8400 0.0318274 0.06589543 1.0 0.96\n"
     ]
    },
    {
     "name": "stdout",
     "output_type": "stream",
     "text": [
      "8500 0.031545855 0.06586431 1.0 0.96\n8600 0.031269852 0.0658388 1.0 0.96\n"
     ]
    },
    {
     "name": "stdout",
     "output_type": "stream",
     "text": [
      "8700 0.030999266 0.06581919 1.0 0.96\n8800 0.030734038 0.06580612 1.0 0.96\n"
     ]
    },
    {
     "name": "stdout",
     "output_type": "stream",
     "text": [
      "8900 0.030473733 0.06579903 1.0 0.96\n9000 0.03021827 0.06579605 1.0 0.96\n"
     ]
    },
    {
     "name": "stdout",
     "output_type": "stream",
     "text": [
      "9100 0.029967535 0.065796845 1.0 0.96\n9200 0.029721308 0.0658021 1.0 0.96\n"
     ]
    },
    {
     "name": "stdout",
     "output_type": "stream",
     "text": [
      "9300 0.029479437 0.06581159 1.0 0.96\n9400 0.029241845 0.06582486 1.0 0.96\n"
     ]
    },
    {
     "name": "stdout",
     "output_type": "stream",
     "text": [
      "9500 0.029008323 0.06583765 1.0 0.96\n9600 0.028778816 0.06585192 1.0 0.96\n"
     ]
    },
    {
     "name": "stdout",
     "output_type": "stream",
     "text": [
      "9700 0.028553095 0.065869056 1.0 0.96\n9800 0.028331036 0.06588884 1.0 0.96\n"
     ]
    },
    {
     "name": "stdout",
     "output_type": "stream",
     "text": [
      "9900 0.028112877 0.06591042 1.0 0.96\nTraining is completed \n\nFinal Train Accuracy: 1.0\nFinal Test Accuracy: 0.96\n"
     ]
    }
   ],
   "source": [
    "with tf.Session() as session:\n",
    "    session.run(tf.global_variables_initializer())\n",
    "\n",
    "    train_writer = tf.summary.FileWriter('assignments/neural-network/tmp/train')\n",
    "    test_writer = tf.summary.FileWriter('assignments/neural-network/tmp/test')\n",
    "\n",
    "    train_feed = {X: X_train_scaled, Y: Y_train_encoded}\n",
    "    test_feed = {X: X_test_scaled, Y: Y_test_encoded}\n",
    "    \n",
    "    for epoch in range(training_epochs):\n",
    "        session.run(optimizer, feed_dict=train_feed)\n",
    "\n",
    "        if epoch % 100 == 0:\n",
    "            train_cost, train_summary = session.run(\n",
    "                [cost, summary], feed_dict=train_feed\n",
    "            )\n",
    "            test_cost, test_summary = session.run(\n",
    "                [cost, summary], feed_dict=test_feed\n",
    "            )\n",
    "\n",
    "            train_acc = session.run(accuracy, feed_dict=train_feed)\n",
    "            test_acc = session.run(accuracy, feed_dict=test_feed)\n",
    "\n",
    "            print(epoch, train_cost, test_cost, train_acc, test_acc)\n",
    "\n",
    "            train_writer.add_summary(train_summary, epoch)\n",
    "            test_writer.add_summary(test_summary, epoch)\n",
    "\n",
    "    print(\"Training is completed\", \"\\n\")\n",
    "    final_train_acc = session.run(accuracy, feed_dict=train_feed)\n",
    "    final_test_acc = session.run(accuracy, feed_dict=test_feed)\n",
    "    \n",
    "    print(\"Final Train Accuracy:\", final_train_acc)\n",
    "    print(\"Final Test Accuracy:\", final_test_acc)\n",
    "    \n",
    "    train_writer.close()\n",
    "    test_writer.close()"
   ]
  },
  {
   "cell_type": "code",
   "execution_count": null,
   "metadata": {},
   "outputs": [],
   "source": []
  }
 ],
 "metadata": {
  "kernelspec": {
   "display_name": "Python 2",
   "language": "python",
   "name": "python2"
  },
  "language_info": {
   "codemirror_mode": {
    "name": "ipython",
    "version": 2
   },
   "file_extension": ".py",
   "mimetype": "text/x-python",
   "name": "python",
   "nbconvert_exporter": "python",
   "pygments_lexer": "ipython2",
   "version": "2.7.6"
  }
 },
 "nbformat": 4,
 "nbformat_minor": 0
}
