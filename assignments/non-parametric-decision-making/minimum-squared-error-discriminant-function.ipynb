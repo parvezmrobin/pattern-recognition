{
 "cells": [
  {
   "cell_type": "markdown",
   "metadata": {},
   "source": [
    "# Minimus Squared Error Discriminant Function"
   ]
  },
  {
   "cell_type": "code",
   "execution_count": null,
   "metadata": {},
   "outputs": [],
   "source": [
    "from sympy import diff, symbols, Add, init_printing, Eq, Sum\n",
    "from sympy.solvers.solveset import linsolve\n",
    "from sympy.solvers.solveset import solveset"
   ]
  },
  {
   "cell_type": "code",
   "execution_count": 2,
   "metadata": {},
   "outputs": [],
   "source": [
    "init_printing()"
   ]
  },
  {
   "cell_type": "code",
   "execution_count": 3,
   "metadata": {},
   "outputs": [],
   "source": [
    "X = [\n",
    "    (0, 0, 0),\n",
    "    (2, 1, 1),\n",
    "    (2, -1, 1),\n",
    "    (1, 2, -1),\n",
    "    (3, 2, 2),\n",
    "    (2, 3, -3),\n",
    "    (3, -3, 2),\n",
    "]\n",
    "Y = [1, 1, 1, -1, -1, -1, -1]\n",
    "N, M = 7, 3"
   ]
  },
  {
   "cell_type": "code",
   "execution_count": 4,
   "metadata": {},
   "outputs": [],
   "source": [
    "w0, w1, w2, w3 = symbols('w0 w1 w2, w3')"
   ]
  },
  {
   "cell_type": "markdown",
   "metadata": {},
   "source": [
    "# Calculate Error"
   ]
  },
  {
   "cell_type": "code",
   "execution_count": 5,
   "metadata": {},
   "outputs": [],
   "source": [
    "expr = Add()\n",
    "for i in range(N):\n",
    "    x, y = X[i], Y[i]\n",
    "    expr = expr + (w0 + w1 * x[0] + w2 * x[1] + w3 * x[2] - y) ** 2 "
   ]
  },
  {
   "cell_type": "code",
   "execution_count": 6,
   "metadata": {},
   "outputs": [
    {
     "data": {
      "text/latex": [
       "$$E(x) = \\sum_{i=1}^{N} \\left(D(x_{i}) - d_{i}\\right)^{2} = \\left(w_{0} - 1\\right)^{2} + \\left(w_{0} + w_{1} + 2 w_{2} - w_{3} + 1\\right)^{2} + \\left(w_{0} + 2 w_{1} - w_{2} + w_{3} - 1\\right)^{2} + \\left(w_{0} + 2 w_{1} + w_{2} + w_{3} - 1\\right)^{2} + \\left(w_{0} + 2 w_{1} + 3 w_{2} - 3 w_{3} + 1\\right)^{2} + \\left(w_{0} + 3 w_{1} - 3 w_{2} + 2 w_{3} + 1\\right)^{2} + \\left(w_{0} + 3 w_{1} + 2 w_{2} + 2 w_{3} + 1\\right)^{2}$$"
      ],
      "text/plain": [
       "         N                                                                    \n",
       "        ___                                                                   \n",
       "        ╲                                                                     \n",
       "         ╲                  2           2                            2        \n",
       "E(x) =   ╱   (D(x_{i}) - dᵢ)  = (w₀ - 1)  + (w₀ + w₁ + 2⋅w₂ - w₃ + 1)  + (w₀ +\n",
       "        ╱                                                                     \n",
       "        ‾‾‾                                                                   \n",
       "       i = 1                                                                  \n",
       "\n",
       "                                                                              \n",
       "                                                                              \n",
       "                                                                              \n",
       "                    2                            2                            \n",
       " 2⋅w₁ - w₂ + w₃ - 1)  + (w₀ + 2⋅w₁ + w₂ + w₃ - 1)  + (w₀ + 2⋅w₁ + 3⋅w₂ - 3⋅w₃ \n",
       "                                                                              \n",
       "                                                                              \n",
       "                                                                              \n",
       "\n",
       "                                                                       \n",
       "                                                                       \n",
       "                                                                       \n",
       "    2                                2                                2\n",
       "+ 1)  + (w₀ + 3⋅w₁ - 3⋅w₂ + 2⋅w₃ + 1)  + (w₀ + 3⋅w₁ + 2⋅w₂ + 2⋅w₃ + 1) \n",
       "                                                                       \n",
       "                                                                       \n",
       "                                                                       "
      ]
     },
     "execution_count": 6,
     "metadata": {},
     "output_type": "execute_result"
    }
   ],
   "source": [
    "i, N, xi, di, Dx = symbols(\"i N x_i, d_i, D(x_{i})\")\n",
    "err_expr = Sum((Dx - di) ** 2, (i, 1, N))\n",
    "q = Eq(symbols(\"E(x)\"), err_expr)\n",
    "Eq(q, expr, evaluate=False)"
   ]
  },
  {
   "cell_type": "markdown",
   "metadata": {},
   "source": [
    "# Calculate Partial Derivatives"
   ]
  },
  {
   "cell_type": "code",
   "execution_count": 7,
   "metadata": {},
   "outputs": [],
   "source": [
    "dw0 = diff(expr, w0)\n",
    "dw1 = diff(expr, w1)\n",
    "dw2 = diff(expr, w2)\n",
    "dw3 = diff(expr, w3)"
   ]
  },
  {
   "cell_type": "code",
   "execution_count": 8,
   "metadata": {},
   "outputs": [
    {
     "data": {
      "text/latex": [
       "$$\\frac{{\\delta}E}{{\\delta}w_0} = 14 w_{0} + 26 w_{1} + 8 w_{2} + 4 w_{3} + 2 = 0$$"
      ],
      "text/plain": [
       "{\\delta}E                                       \n",
       "────────── = 14⋅w₀ + 26⋅w₁ + 8⋅w₂ + 4⋅w₃ + 2 = 0\n",
       "{\\delta}w₀                                      "
      ]
     },
     "execution_count": 8,
     "metadata": {},
     "output_type": "execute_result"
    }
   ],
   "source": [
    "del_E = symbols(\"{\\delta}E\")\n",
    "Eq(Eq(del_E/symbols(\"{\\delta}w_0\"),  dw0), evaluate=False)"
   ]
  },
  {
   "cell_type": "code",
   "execution_count": 9,
   "metadata": {},
   "outputs": [
    {
     "data": {
      "text/latex": [
       "$$\\frac{{\\delta}E}{{\\delta}w_1} = 26 w_{0} + 62 w_{1} + 10 w_{2} + 18 w_{3} + 10 = 0$$"
      ],
      "text/plain": [
       "{\\delta}E                                          \n",
       "────────── = 26⋅w₀ + 62⋅w₁ + 10⋅w₂ + 18⋅w₃ + 10 = 0\n",
       "{\\delta}w₁                                         "
      ]
     },
     "execution_count": 9,
     "metadata": {},
     "output_type": "execute_result"
    }
   ],
   "source": [
    "Eq(Eq(del_E / symbols(\"{\\delta}w_1\"), dw1), evaluate=False)"
   ]
  },
  {
   "cell_type": "code",
   "execution_count": 10,
   "metadata": {},
   "outputs": [
    {
     "data": {
      "text/latex": [
       "$$\\frac{{\\delta}E}{{\\delta}w_2} = 8 w_{0} + 10 w_{1} + 56 w_{2} - 26 w_{3} + 8 = 0$$"
      ],
      "text/plain": [
       "{\\delta}E                                        \n",
       "────────── = 8⋅w₀ + 10⋅w₁ + 56⋅w₂ - 26⋅w₃ + 8 = 0\n",
       "{\\delta}w₂                                       "
      ]
     },
     "execution_count": 10,
     "metadata": {},
     "output_type": "execute_result"
    }
   ],
   "source": [
    "Eq(Eq(del_E / symbols(\"{\\delta}w_2\"), dw2), evaluate=False)"
   ]
  },
  {
   "cell_type": "code",
   "execution_count": 11,
   "metadata": {},
   "outputs": [
    {
     "data": {
      "text/latex": [
       "$$\\frac{{\\delta}E}{{\\delta}w_3} = 4 w_{0} + 18 w_{1} - 26 w_{2} + 40 w_{3} - 4 = 0$$"
      ],
      "text/plain": [
       "{\\delta}E                                        \n",
       "────────── = 4⋅w₀ + 18⋅w₁ - 26⋅w₂ + 40⋅w₃ - 4 = 0\n",
       "{\\delta}w₃                                       "
      ]
     },
     "execution_count": 11,
     "metadata": {},
     "output_type": "execute_result"
    }
   ],
   "source": [
    "Eq(Eq(del_E / symbols(\"{\\delta}w_3\"), dw3), evaluate=False)"
   ]
  },
  {
   "cell_type": "markdown",
   "metadata": {},
   "source": [
    "# Get The Minimum Error Parameters"
   ]
  },
  {
   "cell_type": "code",
   "execution_count": 12,
   "metadata": {},
   "outputs": [],
   "source": [
    "sol = linsolve([dw0, dw1, dw2, dw3], (w0, w1, w2, w3))"
   ]
  },
  {
   "cell_type": "code",
   "execution_count": 13,
   "metadata": {},
   "outputs": [],
   "source": [
    "w = list(set(sol).pop())"
   ]
  },
  {
   "cell_type": "code",
   "execution_count": 14,
   "metadata": {},
   "outputs": [
    {
     "data": {
      "text/latex": [
       "$$D(x) = - \\frac{3777 x_{0}}{5545} - \\frac{287 x_{1}}{5545} + \\frac{1471 x_{2}}{5545} + \\frac{5966}{5545}$$"
      ],
      "text/plain": [
       "         3777⋅x₀   287⋅x₁   1471⋅x₂   5966\n",
       "D(x) = - ─────── - ────── + ─────── + ────\n",
       "           5545     5545      5545    5545"
      ]
     },
     "execution_count": 14,
     "metadata": {},
     "output_type": "execute_result"
    }
   ],
   "source": [
    "x0, x1, x2 = symbols(\"x0 x1 x2\")\n",
    "discriminator = w[0] + w[1] * x0 + w[2] * x1 + w[3] * x2\n",
    "Eq(symbols(\"D(x)\"), discriminator)"
   ]
  },
  {
   "cell_type": "markdown",
   "metadata": {},
   "source": [
    "### Discriminator Equation"
   ]
  },
  {
   "cell_type": "code",
   "execution_count": 15,
   "metadata": {},
   "outputs": [
    {
     "data": {
      "text/latex": [
       "$$x_{0} = - \\frac{287 x_{1}}{3777} + \\frac{1471 x_{2}}{3777} + \\frac{5966}{3777}$$"
      ],
      "text/plain": [
       "       287⋅x₁   1471⋅x₂   5966\n",
       "x₀ = - ────── + ─────── + ────\n",
       "        3777      3777    3777"
      ]
     },
     "execution_count": 15,
     "metadata": {},
     "output_type": "execute_result"
    }
   ],
   "source": [
    "Eq(x0, tuple(solveset(discriminator, x0))[0])"
   ]
  },
  {
   "cell_type": "markdown",
   "metadata": {},
   "source": [
    "---\n",
    "# The End"
   ]
  }
 ],
 "metadata": {
  "kernelspec": {
   "display_name": "Python 3",
   "language": "python",
   "name": "python3"
  },
  "language_info": {
   "codemirror_mode": {
    "name": "ipython",
    "version": 3
   },
   "file_extension": ".py",
   "mimetype": "text/x-python",
   "name": "python",
   "nbconvert_exporter": "python",
   "pygments_lexer": "ipython3",
   "version": "3.5.6"
  }
 },
 "nbformat": 4,
 "nbformat_minor": 1
}
