{
 "cells": [
  {
   "cell_type": "code",
   "execution_count": 13,
   "metadata": {},
   "outputs": [],
   "source": [
    "from sympy import diff, symbols, Add, init_printing, Eq, Sum\n",
    "from sympy.solvers.solveset import linsolve\n",
    "from sympy.solvers.solveset import solveset"
   ]
  },
  {
   "cell_type": "code",
   "execution_count": 14,
   "metadata": {},
   "outputs": [],
   "source": [
    "init_printing()"
   ]
  },
  {
   "cell_type": "code",
   "execution_count": 15,
   "metadata": {},
   "outputs": [],
   "source": [
    "X = [\n",
    "    (0, 0),\n",
    "    (0, 1),\n",
    "    (1, 0),\n",
    "    (1, 1),\n",
    "]\n",
    "Y = [-1, -1, 1, 1]\n",
    "N, M = 4, 2"
   ]
  },
  {
   "cell_type": "code",
   "execution_count": 49,
   "metadata": {},
   "outputs": [],
   "source": [
    "w0, w1, w2 = symbols('w0 w1 w2')"
   ]
  },
  {
   "cell_type": "markdown",
   "metadata": {},
   "source": [
    "# Calculate Error"
   ]
  },
  {
   "cell_type": "code",
   "execution_count": 17,
   "metadata": {},
   "outputs": [],
   "source": [
    "expr = Add()\n",
    "for i in range(N):\n",
    "    x, y = X[i], Y[i]\n",
    "    expr = expr + (w0 + w1 * x[0] + w2 * x[1] - y) ** 2 "
   ]
  },
  {
   "cell_type": "code",
   "execution_count": 132,
   "metadata": {},
   "outputs": [
    {
     "data": {
      "text/latex": [
       "$$E(x) = \\sum_{i=1}^{N} \\left(D(x_{i}) - d_{i}\\right)^{2} = \\left(w_{0} + 1\\right)^{2} + \\left(w_{0} + w_{1} - 1\\right)^{2} + \\left(w_{0} + w_{2} + 1\\right)^{2} + \\left(w_{0} + w_{1} + w_{2} - 1\\right)^{2}$$"
      ],
      "text/plain": [
       "         N                                                                    \n        ___                                                                   \n        ╲                                                                     \n         ╲                  2           2                2                2   \nE(x) =   ╱   (D(x_{i}) - dᵢ)  = (w₀ + 1)  + (w₀ + w₁ - 1)  + (w₀ + w₂ + 1)  + \n        ╱                                                                     \n        ‾‾‾                                                                   \n       i = 1                                                                  \n\n                   \n                   \n                   \n                  2\n(w₀ + w₁ + w₂ - 1) \n                   \n                   \n                   "
      ]
     },
     "metadata": {},
     "output_type": "display_data"
    }
   ],
   "source": [
    "i, N, xi, di, Dx = symbols(\"i N x_i, d_i, D(x_{i})\")\n",
    "err_expr = Sum((Dx - di) ** 2, (i, 1, N))\n",
    "q = Eq(symbols(\"E(x)\"), err_expr)\n",
    "Eq(q, expr, evaluate=False)"
   ]
  },
  {
   "cell_type": "markdown",
   "metadata": {},
   "source": [
    "# Calculate Partial Derivatives"
   ]
  },
  {
   "cell_type": "code",
   "execution_count": 52,
   "metadata": {},
   "outputs": [],
   "source": [
    "dw0 = diff(expr, w0)\n",
    "dw1 = diff(expr, w1)\n",
    "dw2 = diff(expr, w2)"
   ]
  },
  {
   "cell_type": "code",
   "execution_count": 133,
   "metadata": {},
   "outputs": [
    {
     "data": {
      "text/latex": [
       "$$\\frac{{\\delta}E}{{\\delta}w_0} = 8 w_{0} + 4 w_{1} + 4 w_{2} = 0$$"
      ],
      "text/plain": [
       "{\\delta}E                          \n────────── = 8⋅w₀ + 4⋅w₁ + 4⋅w₂ = 0\n{\\delta}w₀                         "
      ]
     },
     "metadata": {},
     "output_type": "display_data"
    }
   ],
   "source": [
    "del_E = symbols(\"{\\delta}E\")\n",
    "Eq(Eq(del_E/symbols(\"{\\delta}w_0\"),  dw0), evaluate=False)"
   ]
  },
  {
   "cell_type": "code",
   "execution_count": 134,
   "metadata": {},
   "outputs": [
    {
     "data": {
      "text/latex": [
       "$$\\frac{{\\delta}E}{{\\delta}w_1} = 4 w_{0} + 4 w_{1} + 2 w_{2} - 4 = 0$$"
      ],
      "text/plain": [
       "{\\delta}E                              \n────────── = 4⋅w₀ + 4⋅w₁ + 2⋅w₂ - 4 = 0\n{\\delta}w₁                             "
      ]
     },
     "metadata": {},
     "output_type": "display_data"
    }
   ],
   "source": [
    "Eq(Eq(del_E / symbols(\"{\\delta}w_1\"), dw1), evaluate=False)"
   ]
  },
  {
   "cell_type": "code",
   "execution_count": 135,
   "metadata": {},
   "outputs": [
    {
     "data": {
      "text/latex": [
       "$$\\frac{{\\delta}E}{{\\delta}w_2} = 4 w_{0} + 2 w_{1} + 4 w_{2} = 0$$"
      ],
      "text/plain": [
       "{\\delta}E                          \n────────── = 4⋅w₀ + 2⋅w₁ + 4⋅w₂ = 0\n{\\delta}w₂                         "
      ]
     },
     "metadata": {},
     "output_type": "display_data"
    }
   ],
   "source": [
    "Eq(Eq(del_E / symbols(\"{\\delta}w_2\"), dw2), evaluate=False)"
   ]
  },
  {
   "cell_type": "markdown",
   "metadata": {},
   "source": [
    "# Get The Minimum Error Parameters"
   ]
  },
  {
   "cell_type": "code",
   "execution_count": 57,
   "metadata": {},
   "outputs": [],
   "source": [
    "sol = linsolve([dw0, dw1, dw2], (w0, w1, w2))"
   ]
  },
  {
   "cell_type": "code",
   "execution_count": 58,
   "metadata": {},
   "outputs": [],
   "source": [
    "w = list(set(sol).pop())"
   ]
  },
  {
   "cell_type": "code",
   "execution_count": 136,
   "metadata": {},
   "outputs": [
    {
     "data": {
      "text/latex": [
       "$$D(x) = 2 x_{0} + 5 x_{1} - 1$$"
      ],
      "text/plain": [
       "D(x) = 2⋅x₀ + 5⋅x₁ - 1"
      ]
     },
     "metadata": {},
     "output_type": "display_data"
    }
   ],
   "source": [
    "x0, x1, x2 = symbols(\"x0 x1 x2\")\n",
    "discriminator = w[0] + w[1] * x0 + w[2] * x1\n",
    "Eq(symbols(\"D(x)\"), discriminator)"
   ]
  },
  {
   "cell_type": "markdown",
   "metadata": {},
   "source": [
    "### Discriminator Equation"
   ]
  },
  {
   "cell_type": "code",
   "execution_count": 137,
   "metadata": {},
   "outputs": [
    {
     "data": {
      "text/latex": [
       "$$x_{0} = - \\frac{5 x_{1}}{2} + \\frac{1}{2}$$"
      ],
      "text/plain": [
       "       5⋅x₁   1\nx₀ = - ──── + ─\n        2     2"
      ]
     },
     "metadata": {},
     "output_type": "display_data"
    }
   ],
   "source": [
    "Eq(x0, tuple(solveset(discriminator, x0))[0])"
   ]
  },
  {
   "cell_type": "markdown",
   "metadata": {},
   "source": [
    "---\n",
    "# The End"
   ]
  }
 ],
 "metadata": {
  "kernelspec": {
   "display_name": "Python 3",
   "language": "python",
   "name": "python3"
  },
  "language_info": {
   "codemirror_mode": {
    "name": "ipython",
    "version": 3
   },
   "file_extension": ".py",
   "mimetype": "text/x-python",
   "name": "python",
   "nbconvert_exporter": "python",
   "pygments_lexer": "ipython3",
   "version": "3.5.6"
  }
 },
 "nbformat": 4,
 "nbformat_minor": 1
}
